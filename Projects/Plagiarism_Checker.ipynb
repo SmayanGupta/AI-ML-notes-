{
  "nbformat": 4,
  "nbformat_minor": 0,
  "metadata": {
    "colab": {
      "name": "Plagiarism Checker.ipynb",
      "provenance": []
    },
    "kernelspec": {
      "name": "python3",
      "display_name": "Python 3"
    },
    "language_info": {
      "name": "python"
    }
  },
  "cells": [
    {
      "cell_type": "markdown",
      "source": [
        "## Machine Learning Basics"
      ],
      "metadata": {
        "id": "-eZJP80GsgLg"
      }
    },
    {
      "cell_type": "markdown",
      "source": [
        "#### Supervised Machine Learning"
      ],
      "metadata": {
        "id": "25jdpIa6sxRT"
      }
    },
    {
      "cell_type": "markdown",
      "source": [
        "Supervised machine learning is a framework in which systems learn to combine inputs to produce useful predictions on  never before seen data. Hence the machine tries to decipher patterns from existing data and tries to apply it to novel data. \n",
        "\n",
        "Some basic terminology:\n",
        "1.   Label is the variable we are predicting. for example if $y=f(x)$ then y is data we would be predicting\n",
        "2.   Features ar input variables that describes the data. So in the above example it would be x. If however the data depends on a number of variables or properties then features would be a set $({x_1,x_2,....,x_n})$\n",
        "3. Labeled example: heas features and label. Use to train models.\n",
        "4. Unlabeled example:Used for making predictions\n",
        "5. Model is the code or program that predicts the labels.\n",
        "\n",
        "\n"
      ],
      "metadata": {
        "id": "AZwtLTmJt_ay"
      }
    },
    {
      "cell_type": "markdown",
      "source": [
        "#### Linear Regression"
      ],
      "metadata": {
        "id": "76jvWMRsz7uC"
      }
    },
    {
      "cell_type": "markdown",
      "source": [
        "The simplest form of data fitting is called Linear Regression. In this type we try to fit data along a straight line. \n",
        "Let us take a look at a simple example: \n",
        "This is the variations in Google's stock price over the course of 3 years.\n",
        "![](https://drive.google.com/uc?export=view&id=1iw2E7b9QgNn6HR9zFjs42wLk5bRqqg9t)\n",
        "\n",
        "Now think for yourself what kind of a line would be fit this data? Just by intuition you could tell that it would be a line from the origin to the point corresponding to 438% on y axis.\n",
        "![](https://drive.google.com/uc?export=view&id=1dtiiNGj-GaQSLvH70k2OkaA9OvGAyPMw)\n",
        "\n",
        "As you see the actual data fluctuates above and below the projected line. The magnitude of this fluctuation is called Error or Loss. All of the models we create in Machine Learning attempt to minimise this loss. "
      ],
      "metadata": {
        "id": "MuN6dmSI0BaG"
      }
    },
    {
      "cell_type": "code",
      "execution_count": null,
      "metadata": {
        "id": "U6ddbObtsalO"
      },
      "outputs": [],
      "source": [
        "from sklearn.metrics.pairwise import cosine_similarity\n",
        "from sklearn.feature_extraction.text import TfidfVectorizer\n",
        "#import plotly.graph_objects as go\n",
        "import numpy as np\n",
        "import matplotlib.pyplot as plt"
      ]
    },
    {
      "cell_type": "markdown",
      "source": [
        "####Simplest Case of two documents"
      ],
      "metadata": {
        "id": "eMYNKt_b9oYk"
      }
    },
    {
      "cell_type": "markdown",
      "source": [
        "First we open the two files which can be uploaded using the folder icon and then choosing from desktop. Then we pass the text from these files to a list called text_files."
      ],
      "metadata": {
        "id": "qybfBAUi9zAG"
      }
    },
    {
      "cell_type": "code",
      "source": [
        "file1= open('/content/text1.txt')\n",
        "file2= open('/content/text2.txt')"
      ],
      "metadata": {
        "id": "DCwDQ9pmmsOR"
      },
      "execution_count": null,
      "outputs": []
    },
    {
      "cell_type": "code",
      "source": [
        "files=[file1, file2]\n",
        "text_files=[file.read() for file in files]\n"
      ],
      "metadata": {
        "id": "ggYG_mxgoBTl"
      },
      "execution_count": null,
      "outputs": []
    },
    {
      "cell_type": "markdown",
      "source": [
        "We then pass the text through a lamda function. A lambda function is an anonymous function that can take any number of arguments. Usually it used for short functions. \\n\n",
        "Vectorizer is a function from scikit learn. What vectorizer does is that it takes a word and makes it a vector by assigning it an attribute or feature as we studied earlier. Hence a word or character in text becomes a vector in space with a certain attribute. \n",
        "Now remember from vectors that the dot product of two vectors is the projection of one vector onto the other. In other words it tells us how much one vector is \"similar\" to the other. So after extract two vectors we take their dot product to check similarity between them.\n",
        "$$ \\vec{text_1} \\cdot \\vec{text_2} =|\\vec{text_1}||\\vec{text_2}| \\cos(\\theta) $$\n",
        "This will give the amount of plagiarism between the two text. "
      ],
      "metadata": {
        "id": "hmERNrjt-KR8"
      }
    },
    {
      "cell_type": "code",
      "source": [
        "vectorize= lambda Text: TfidfVectorizer().fit_transform(Text).toarray()\n",
        "#This is the same as \n",
        "\"\"\"def vectorize(text):\n",
        "return TfidfVectorizer().fit_transform(Text).toarray()\n",
        "\n",
        "\"\"\"\n",
        "similarity = lambda doc1, doc2: cosine_similarity([doc1], [doc2])"
      ],
      "metadata": {
        "id": "ReQKpxaUoo3W"
      },
      "execution_count": null,
      "outputs": []
    },
    {
      "cell_type": "code",
      "source": [
        "vectors=vectorize(text_files)\n",
        "#vectors\n",
        "s_vectors = list(zip(files, vectors))\n",
        "#list function creates a list object\n",
        "#zip combines two iterators elementwise to make a tuple\n",
        "list(zip([\"a\",\"b\"],[\"c\",\"d\"]))\n"
      ],
      "metadata": {
        "colab": {
          "base_uri": "https://localhost:8080/"
        },
        "id": "B6I3tUNapEOc",
        "outputId": "134c0651-2e00-425a-85f5-d52e267fa601"
      },
      "execution_count": null,
      "outputs": [
        {
          "output_type": "execute_result",
          "data": {
            "text/plain": [
              "[('a', 'c'), ('b', 'd')]"
            ]
          },
          "metadata": {},
          "execution_count": 88
        }
      ]
    },
    {
      "cell_type": "code",
      "source": [
        "plagiarism=similarity(vectors[1],vectors[0])\n",
        "plagiarism\n",
        "a=np.array([1,2,3])\n",
        "b=np.array([2,3,4])\n",
        "a*b\n"
      ],
      "metadata": {
        "colab": {
          "base_uri": "https://localhost:8080/"
        },
        "id": "_bIe35mbysp5",
        "outputId": "fb8f8d74-8e80-43c1-d7ca-595589a4fe39"
      },
      "execution_count": null,
      "outputs": [
        {
          "output_type": "execute_result",
          "data": {
            "text/plain": [
              "array([ 2,  6, 12])"
            ]
          },
          "metadata": {},
          "execution_count": 96
        }
      ]
    },
    {
      "cell_type": "code",
      "source": [
        "x=np.zeros(len(vectors[0]))\n",
        "for i in range(0,len(vectors[0])):\n",
        "  x[i]=i+1\n",
        "plt.plot(x,vectors[0]*vectors[1]*100,)\n",
        "plt.xlabel(\"Words\")\n",
        "plt.ylabel(\"% of Plagiarism\")"
      ],
      "metadata": {
        "colab": {
          "base_uri": "https://localhost:8080/",
          "height": 296
        },
        "id": "moWd4LFsD9Os",
        "outputId": "aba7b8ae-b3d4-4ea1-81b5-7ebac74e426a"
      },
      "execution_count": null,
      "outputs": [
        {
          "output_type": "execute_result",
          "data": {
            "text/plain": [
              "Text(0, 0.5, '% of Plagiarism')"
            ]
          },
          "metadata": {},
          "execution_count": 72
        },
        {
          "output_type": "display_data",
          "data": {
            "image/png": "[encoded data removed]",
            "text/plain": [
              "<Figure size 432x288 with 1 Axes>"
            ]
          },
          "metadata": {
            "needs_background": "light"
          }
        }
      ]
    },
    {
      "cell_type": "code",
      "source": [
        "plt.imshow((vectors[0]*vectors[1]).reshape((5,5))*100, cmap='hot', interpolation='nearest')\n",
        "cbar=plt.colorbar()\n",
        "cbar.set_label(\"% of plagiarism\")\n",
        "plt.show()\n"
      ],
      "metadata": {
        "colab": {
          "base_uri": "https://localhost:8080/",
          "height": 265
        },
        "id": "Pebz-vvu4yIE",
        "outputId": "053a33d4-ac81-4e7d-e254-311fc565401f"
      },
      "execution_count": null,
      "outputs": [
        {
          "output_type": "display_data",
          "data": {
            "image/png": "[encoded data removed]",
            "text/plain": [
              "<Figure size 432x288 with 2 Axes>"
            ]
          },
          "metadata": {
            "needs_background": "light"
          }
        }
      ]
    },
    {
      "cell_type": "markdown",
      "source": [
        "###Reference Material\n",
        "\n",
        "\n",
        "1.   https://stackoverflow.com/questions/62264808/how-to-load-a-text-file-correctly-in-google-colab\n",
        "2.   https://medium.com/@cmukesh8688/tf-idf-vectorizer-scikit-learn-dbc0244a911a\n",
        "3.   https://www.geeksforgeeks.org/vectorization-in-python/\n",
        "4.   https://colab.research.google.com/github/computationalcore/introduction-to-python/blob/master/notebooks/4-files/PY0101EN-4-1-ReadFile.ipynb\n",
        "5. https://www.w3schools.com/python/ref_func_zip.asp\n",
        "6. https://www.geeksforgeeks.org/python-del-to-delete-objects/\n",
        "\n",
        "###Possible Errors\n",
        "\n",
        "\n",
        "1.   https://stackoverflow.com/questions/20928769/python-tfidfvectorizer-throwing-empty-vocabulary-perhaps-the-documents-only-c\n",
        "2.  https://datascience.stackexchange.com/questions/26648/cosine-similarity-returns-matrix-instead-of-single-value\n",
        "\n",
        "\n",
        "\n",
        "\n"
      ],
      "metadata": {
        "id": "0YUFnYlrrRuC"
      }
    }
  ]
}