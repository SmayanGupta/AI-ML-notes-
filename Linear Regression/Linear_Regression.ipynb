{
  "nbformat": 4,
  "nbformat_minor": 0,
  "metadata": {
    "colab": {
      "name": "Linear Regression.ipynb",
      "provenance": []
    },
    "kernelspec": {
      "name": "python3",
      "display_name": "Python 3"
    },
    "language_info": {
      "name": "python"
    }
  },
  "cells": [
    {
      "cell_type": "markdown",
      "source": [
        "#Theory"
      ],
      "metadata": {
        "id": "X7NpXDA30zSA"
      }
    },
    {
      "cell_type": "markdown",
      "source": [
        "Linear Regression is a form of Regression technique that comes under Supervised Machine Learning. In this Method we try to fit the data using the equation of line which is $$y=mx+b$$\n",
        "where m is the slope of the line and b is the y intercept. Here the x axis the axis of features or the Data given. While y is the label we have to predict. \n"
      ],
      "metadata": {
        "id": "pw3BoBzmFPDl"
      }
    },
    {
      "cell_type": "markdown",
      "source": [
        "To show a real life example where linear regression can be used is as follows.\n",
        "This is the variations in Google's stock price over the course of 3 years.\n",
        "\n",
        "![](https://drive.google.com/uc?export=view&id=1iw2E7b9QgNn6HR9zFjs42wLk5bRqqg9t) \\\\\n",
        "\n",
        "The best fitting Line that can be drawn would be:\n",
        "![](https://drive.google.com/uc?export=view&id=1dtiiNGj-GaQSLvH70k2OkaA9OvGAyPMw)\n",
        "This is called Linear Regression."
      ],
      "metadata": {
        "id": "OHa-b32VG94E"
      }
    },
    {
      "cell_type": "markdown",
      "source": [
        "Let us take the case of Discrete Variables where a set of Data points is given. As shown in the graph below.\n",
        "\n",
        "![](https://drive.google.com/uc?export=view&id=1Sym7b9Y5qKFfmTbTRbRpLjztX1re5LjH) \\\\\n",
        "\n",
        "Now we try to use Linear Regression on this graph to find the best fitting line for this given Data. The line that comes from Linear Regression is like this.\n",
        "\n",
        "![](https://drive.google.com/uc?export=view&id=1xLzgCUWOPiX712heb5H3TDEbJaxN-_hi) \\\\\n",
        "As you can see almost all the points of regression fit on this given line. With some deviations. Now to calculate error draw a line parallel to the y-axis from a given data point. At the point this line Intersects with our predited regression line will tell you the error. The amount of error is equal to the distance or lenght of this line. We the sum these lenghts for all the points to get the total error in our Approximation. This is also called $R^2$ error. It ranges between 0 and 1 and a higher value corresponds to lower error.\n",
        "![](https://drive.google.com/uc?export=view&id=1N7hpFYB33Z4_tU1PP4M2PFJhmleKnlPi) \\\\"
      ],
      "metadata": {
        "id": "o9P_BgRWNH2q"
      }
    },
    {
      "cell_type": "markdown",
      "source": [
        "##Mathematical Formulation"
      ],
      "metadata": {
        "id": "H4RMsmhcKSc8"
      }
    },
    {
      "cell_type": "markdown",
      "source": [
        "Here to fit the data we use Least Square fitting according the which for a set of n data points the slope \"m\" is given by:\n",
        "$$ m= \\sum _{i=0} ^{n} \\frac{(x_i - \\bar{x})(y_i - \\bar{y})}{(x_i - \\bar{x})^2}$$\n",
        "here $x_i$ is the ith Data point in x \\\\\n",
        "$y_i$ is the ith Data point in y\\\\\n",
        "$\\bar{x}$ is the mean of x\\\\\n",
        "$\\bar{y}$ is mean of y\\\\\n",
        "\n",
        "The mean is given by the formula:\n",
        "$$ \\bar{x}=\\frac{1}{n}\\sum _{i=0} ^{n} x_i  $$"
      ],
      "metadata": {
        "id": "cx8zP6q7G-S4"
      }
    },
    {
      "cell_type": "markdown",
      "source": [
        "The error we use here is called $R^2$ error which is given by the formula\n",
        "$$  R^2= \\sum _{i=0} ^{n} \\frac{(y_p - \\bar{y})^2}{(y - \\bar{y})^2} $$\n",
        "where $y_p$ is the predicted Data from regression"
      ],
      "metadata": {
        "id": "vdhvIzsRIww3"
      }
    },
    {
      "cell_type": "markdown",
      "source": [
        "#Linear Regression in Python from scratch"
      ],
      "metadata": {
        "id": "tkN9JS_P0V1Z"
      }
    },
    {
      "cell_type": "code",
      "execution_count": null,
      "metadata": {
        "id": "Lo-Oglw0SR5F"
      },
      "outputs": [],
      "source": [
        "import matplotlib.pyplot as plt\n",
        "import numpy as np\n",
        "import pandas as pd\n"
      ]
    },
    {
      "cell_type": "code",
      "source": [
        "data= pd.read_csv(\"/content/salary_data.csv\")\n",
        "print(data.shape)\n",
        "data.head()"
      ],
      "metadata": {
        "colab": {
          "base_uri": "https://localhost:8080/",
          "height": 223
        },
        "id": "qbMG1nM5Xc9I",
        "outputId": "e0e88b53-6877-430b-c579-c0de8f841b07"
      },
      "execution_count": null,
      "outputs": [
        {
          "output_type": "stream",
          "name": "stdout",
          "text": [
            "(30, 2)\n"
          ]
        },
        {
          "output_type": "execute_result",
          "data": {
            "text/html": [
              "\n",
              "  <div id=\"df-6167e845-cb51-4bb5-bec6-48f7e8a1747d\">\n",
              "    <div class=\"colab-df-container\">\n",
              "      <div>\n",
              "<style scoped>\n",
              "    .dataframe tbody tr th:only-of-type {\n",
              "        vertical-align: middle;\n",
              "    }\n",
              "\n",
              "    .dataframe tbody tr th {\n",
              "        vertical-align: top;\n",
              "    }\n",
              "\n",
              "    .dataframe thead th {\n",
              "        text-align: right;\n",
              "    }\n",
              "</style>\n",
              "<table border=\"1\" class=\"dataframe\">\n",
              "  <thead>\n",
              "    <tr style=\"text-align: right;\">\n",
              "      <th></th>\n",
              "      <th>YearsExperience</th>\n",
              "      <th>Salary</th>\n",
              "    </tr>\n",
              "  </thead>\n",
              "  <tbody>\n",
              "    <tr>\n",
              "      <th>0</th>\n",
              "      <td>1.1</td>\n",
              "      <td>39343</td>\n",
              "    </tr>\n",
              "    <tr>\n",
              "      <th>1</th>\n",
              "      <td>1.3</td>\n",
              "      <td>46205</td>\n",
              "    </tr>\n",
              "    <tr>\n",
              "      <th>2</th>\n",
              "      <td>1.5</td>\n",
              "      <td>37731</td>\n",
              "    </tr>\n",
              "    <tr>\n",
              "      <th>3</th>\n",
              "      <td>2.0</td>\n",
              "      <td>43525</td>\n",
              "    </tr>\n",
              "    <tr>\n",
              "      <th>4</th>\n",
              "      <td>2.2</td>\n",
              "      <td>39891</td>\n",
              "    </tr>\n",
              "  </tbody>\n",
              "</table>\n",
              "</div>\n",
              "      <button class=\"colab-df-convert\" onclick=\"convertToInteractive('df-6167e845-cb51-4bb5-bec6-48f7e8a1747d')\"\n",
              "              title=\"Convert this dataframe to an interactive table.\"\n",
              "              style=\"display:none;\">\n",
              "        \n",
              "  <svg xmlns=\"http://www.w3.org/2000/svg\" height=\"24px\"viewBox=\"0 0 24 24\"\n",
              "       width=\"24px\">\n",
              "    <path d=\"M0 0h24v24H0V0z\" fill=\"none\"/>\n",
              "    <path d=\"M18.56 5.44l.94 2.06.94-2.06 2.06-.94-2.06-.94-.94-2.06-.94 2.06-2.06.94zm-11 1L8.5 8.5l.94-2.06 2.06-.94-2.06-.94L8.5 2.5l-.94 2.06-2.06.94zm10 10l.94 2.06.94-2.06 2.06-.94-2.06-.94-.94-2.06-.94 2.06-2.06.94z\"/><path d=\"M17.41 7.96l-1.37-1.37c-.4-.4-.92-.59-1.43-.59-.52 0-1.04.2-1.43.59L10.3 9.45l-7.72 7.72c-.78.78-.78 2.05 0 2.83L4 21.41c.39.39.9.59 1.41.59.51 0 1.02-.2 1.41-.59l7.78-7.78 2.81-2.81c.8-.78.8-2.07 0-2.86zM5.41 20L4 18.59l7.72-7.72 1.47 1.35L5.41 20z\"/>\n",
              "  </svg>\n",
              "      </button>\n",
              "      \n",
              "  <style>\n",
              "    .colab-df-container {\n",
              "      display:flex;\n",
              "      flex-wrap:wrap;\n",
              "      gap: 12px;\n",
              "    }\n",
              "\n",
              "    .colab-df-convert {\n",
              "      background-color: #E8F0FE;\n",
              "      border: none;\n",
              "      border-radius: 50%;\n",
              "      cursor: pointer;\n",
              "      display: none;\n",
              "      fill: #1967D2;\n",
              "      height: 32px;\n",
              "      padding: 0 0 0 0;\n",
              "      width: 32px;\n",
              "    }\n",
              "\n",
              "    .colab-df-convert:hover {\n",
              "      background-color: #E2EBFA;\n",
              "      box-shadow: 0px 1px 2px rgba(60, 64, 67, 0.3), 0px 1px 3px 1px rgba(60, 64, 67, 0.15);\n",
              "      fill: #174EA6;\n",
              "    }\n",
              "\n",
              "    [theme=dark] .colab-df-convert {\n",
              "      background-color: #3B4455;\n",
              "      fill: #D2E3FC;\n",
              "    }\n",
              "\n",
              "    [theme=dark] .colab-df-convert:hover {\n",
              "      background-color: #434B5C;\n",
              "      box-shadow: 0px 1px 3px 1px rgba(0, 0, 0, 0.15);\n",
              "      filter: drop-shadow(0px 1px 2px rgba(0, 0, 0, 0.3));\n",
              "      fill: #FFFFFF;\n",
              "    }\n",
              "  </style>\n",
              "\n",
              "      <script>\n",
              "        const buttonEl =\n",
              "          document.querySelector('#df-6167e845-cb51-4bb5-bec6-48f7e8a1747d button.colab-df-convert');\n",
              "        buttonEl.style.display =\n",
              "          google.colab.kernel.accessAllowed ? 'block' : 'none';\n",
              "\n",
              "        async function convertToInteractive(key) {\n",
              "          const element = document.querySelector('#df-6167e845-cb51-4bb5-bec6-48f7e8a1747d');\n",
              "          const dataTable =\n",
              "            await google.colab.kernel.invokeFunction('convertToInteractive',\n",
              "                                                     [key], {});\n",
              "          if (!dataTable) return;\n",
              "\n",
              "          const docLinkHtml = 'Like what you see? Visit the ' +\n",
              "            '<a target=\"_blank\" href=https://colab.research.google.com/notebooks/data_table.ipynb>data table notebook</a>'\n",
              "            + ' to learn more about interactive tables.';\n",
              "          element.innerHTML = '';\n",
              "          dataTable['output_type'] = 'display_data';\n",
              "          await google.colab.output.renderOutput(dataTable, element);\n",
              "          const docLink = document.createElement('div');\n",
              "          docLink.innerHTML = docLinkHtml;\n",
              "          element.appendChild(docLink);\n",
              "        }\n",
              "      </script>\n",
              "    </div>\n",
              "  </div>\n",
              "  "
            ],
            "text/plain": [
              "   YearsExperience  Salary\n",
              "0              1.1   39343\n",
              "1              1.3   46205\n",
              "2              1.5   37731\n",
              "3              2.0   43525\n",
              "4              2.2   39891"
            ]
          },
          "metadata": {},
          "execution_count": 31
        }
      ]
    },
    {
      "cell_type": "code",
      "source": [
        "x=data['YearsExperience'].values\n",
        "y=data['Salary'].values"
      ],
      "metadata": {
        "id": "yUQVqS7cYsGF"
      },
      "execution_count": null,
      "outputs": []
    },
    {
      "cell_type": "code",
      "source": [
        "meanx= np.mean(x)\n",
        "meany=np.mean(y)\n",
        "n=len(x)\n",
        "s_xx= 0\n",
        "s_yy=0\n",
        "for i in range(n):\n",
        "  s_xx+=(x[i]-meanx)*(y[i]-meany)\n",
        "  s_yy+=(x[i]-meanx)**2\n",
        "\n",
        "m=s_xx/s_yy\n",
        "c=meany - m*meanx\n",
        "\n",
        "print(m,c)\n"
      ],
      "metadata": {
        "colab": {
          "base_uri": "https://localhost:8080/"
        },
        "id": "9vfTeJrRZR4y",
        "outputId": "b547aead-9256-40da-d5dc-eafff25abb77"
      },
      "execution_count": null,
      "outputs": [
        {
          "output_type": "stream",
          "name": "stdout",
          "text": [
            "9449.962321455077 25792.20019866869\n"
          ]
        }
      ]
    },
    {
      "cell_type": "markdown",
      "source": [
        "##Visualizing Prediction"
      ],
      "metadata": {
        "id": "VEMiLPHj0jc_"
      }
    },
    {
      "cell_type": "code",
      "source": [
        "fig,ax= plt.subplots(1,1,figsize=(10,10))\n",
        "ax.scatter(x,y,color='red',label='Data')\n",
        "ax.plot(x,m*x+c,label='Predicted Data')\n",
        "ax.grid(True)\n",
        "ax.set_title('Salary Vs Experience')\n",
        "ax.set_xlabel('Years of Job Experience')\n",
        "ax.set_ylabel('Salary (in $)')\n",
        "ax.legend()"
      ],
      "metadata": {
        "colab": {
          "base_uri": "https://localhost:8080/",
          "height": 638
        },
        "id": "06dJZQL4aQlC",
        "outputId": "05eb0447-8aac-4b2e-af5e-d35078db267e"
      },
      "execution_count": null,
      "outputs": [
        {
          "output_type": "execute_result",
          "data": {
            "text/plain": [
              "<matplotlib.legend.Legend at 0x7fc699290190>"
            ]
          },
          "metadata": {},
          "execution_count": 71
        },
        {
          "output_type": "display_data",
          "data": {
            "image/png": "[encoded data removed]",
            "text/plain": [
              "<Figure size 720x720 with 1 Axes>"
            ]
          },
          "metadata": {
            "needs_background": "light"
          }
        }
      ]
    },
    {
      "cell_type": "markdown",
      "source": [
        "## Error"
      ],
      "metadata": {
        "id": "txKgqGB30nJ9"
      }
    },
    {
      "cell_type": "code",
      "source": [
        "e_pred=0\n",
        "e_real=0 \n",
        "ypred= m*x + c\n",
        "for i in range(n):\n",
        "  e_pred+=(y[i]- meany)**2\n",
        "  e_real+= (y[i]-ypred[i])**2\n",
        "\n",
        "r2error= 1- (e_real/e_pred)\n",
        "r2error"
      ],
      "metadata": {
        "colab": {
          "base_uri": "https://localhost:8080/"
        },
        "id": "c8Lr2xuTxqoa",
        "outputId": "b79ed5ce-ed60-4f4a-e878-4c68e8d4e18d"
      },
      "execution_count": null,
      "outputs": [
        {
          "output_type": "execute_result",
          "data": {
            "text/plain": [
              "0.9569566641435086"
            ]
          },
          "metadata": {},
          "execution_count": 72
        }
      ]
    },
    {
      "cell_type": "markdown",
      "source": [
        "#Using Scikit \n",
        "\n",
        "---\n",
        "\n"
      ],
      "metadata": {
        "id": "XSJl-v4iz6zn"
      }
    },
    {
      "cell_type": "code",
      "source": [
        "import numpy as np\n",
        "import matplotlib.pyplot as plt\n",
        "import pandas as pd\n",
        "from sklearn.model_selection import train_test_split \n",
        "from sklearn.linear_model import LinearRegression\n",
        "\n",
        "# Importing the dataset\n",
        "\n",
        "dataset = pd.read_csv('/content/salary_data.csv')\n",
        "X = dataset.iloc[:, :-1].values #get a copy of dataset exclude last column\n",
        "y = dataset.iloc[:, 1].values #get array of dataset in column 1st\n",
        "\n",
        "# Splitting the dataset into the Training set and Test set\n",
        "xtrain, xtest, ytrain, ytest = train_test_split(X, y, test_size=1/3, random_state=0)\n",
        "\n",
        "\n",
        "# Fitting Simple Linear Regression to the Training set\n",
        "regressor = LinearRegression()\n",
        "regressor.fit(xtrain, ytrain)\n",
        "\n",
        "# Predicting the Test set results\n",
        "ypred = regressor.predict(xtest)\n",
        "\n"
      ],
      "metadata": {
        "id": "WSWw3UbZmj7_"
      },
      "execution_count": null,
      "outputs": []
    },
    {
      "cell_type": "markdown",
      "source": [
        "##Visualizing Values"
      ],
      "metadata": {
        "id": "JtHxfMPF0EYD"
      }
    },
    {
      "cell_type": "code",
      "source": [
        "\n",
        "figure,axis=plt.subplots(2,1,figsize=(6,10))\n",
        "\n",
        "\n",
        "axis[0].scatter(xtrain, ytrain, color='red',label='Data')\n",
        "axis[0].plot(xtrain, regressor.predict(xtrain), label='Linear Regression')\n",
        "axis[0].set_title('Salary VS Experience (Training set)')\n",
        "\n",
        "axis[1].scatter(xtest, ytest, color='red',label='Actual Value')\n",
        "axis[1].plot(xtrain, regressor.predict(xtrain), label='Predicted Value')\n",
        "axis[1].set_title('Salary VS Experience (Test set)')\n",
        "for ax in axis:\n",
        "  ax.set_xlabel('Years of Experience')\n",
        "  ax.set_ylabel('Salary')\n",
        "  ax.grid(True)\n",
        "  ax.legend()\n"
      ],
      "metadata": {
        "colab": {
          "base_uri": "https://localhost:8080/",
          "height": 621
        },
        "id": "ss5DivwG0I--",
        "outputId": "d8f7a9be-92bf-483c-8530-c16716434eb8"
      },
      "execution_count": null,
      "outputs": [
        {
          "output_type": "display_data",
          "data": {
            "image/png": "[encoded data removed]",
            "text/plain": [
              "<Figure size 432x720 with 2 Axes>"
            ]
          },
          "metadata": {
            "needs_background": "light"
          }
        }
      ]
    },
    {
      "cell_type": "markdown",
      "source": [
        "## Error"
      ],
      "metadata": {
        "id": "VVD6K14E0LRh"
      }
    },
    {
      "cell_type": "code",
      "source": [
        "r2score=regressor.score(X,y)\n",
        "r2score"
      ],
      "metadata": {
        "colab": {
          "base_uri": "https://localhost:8080/"
        },
        "id": "PKqH2RLmzubV",
        "outputId": "3df57613-7f6d-4ba0-e306-fca6280adeb3"
      },
      "execution_count": null,
      "outputs": [
        {
          "output_type": "execute_result",
          "data": {
            "text/plain": [
              "0.9565349708076958"
            ]
          },
          "metadata": {},
          "execution_count": 81
        }
      ]
    }
  ]
}